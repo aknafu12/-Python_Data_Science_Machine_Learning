{
 "cells": [
  {
   "cell_type": "code",
   "execution_count": 1,
   "id": "726f80ec",
   "metadata": {},
   "outputs": [
    {
     "name": "stdout",
     "output_type": "stream",
     "text": [
      "hello python\n"
     ]
    }
   ],
   "source": [
    "print('hello python')"
   ]
  },
  {
   "cell_type": "code",
   "execution_count": 2,
   "id": "51858abc",
   "metadata": {},
   "outputs": [],
   "source": [
    "s='this a string'\n"
   ]
  },
  {
   "cell_type": "code",
   "execution_count": 3,
   "id": "a9805192",
   "metadata": {},
   "outputs": [
    {
     "data": {
      "text/plain": [
       "'this a string'"
      ]
     },
     "execution_count": 3,
     "metadata": {},
     "output_type": "execute_result"
    }
   ],
   "source": [
    "s"
   ]
  },
  {
   "cell_type": "code",
   "execution_count": 4,
   "id": "7cba13e2",
   "metadata": {},
   "outputs": [
    {
     "data": {
      "text/plain": [
       "'THIS A STRING'"
      ]
     },
     "execution_count": 4,
     "metadata": {},
     "output_type": "execute_result"
    }
   ],
   "source": [
    "s.upper()"
   ]
  },
  {
   "cell_type": "code",
   "execution_count": 5,
   "id": "4341a674",
   "metadata": {},
   "outputs": [
    {
     "data": {
      "text/plain": [
       "['this', 'a', 'string']"
      ]
     },
     "execution_count": 5,
     "metadata": {},
     "output_type": "execute_result"
    }
   ],
   "source": [
    "s.split()"
   ]
  },
  {
   "cell_type": "code",
   "execution_count": 6,
   "id": "ec21ece6",
   "metadata": {},
   "outputs": [
    {
     "data": {
      "text/plain": [
       "['this a string']"
      ]
     },
     "execution_count": 6,
     "metadata": {},
     "output_type": "execute_result"
    }
   ],
   "source": [
    "s.split('k')"
   ]
  },
  {
   "cell_type": "code",
   "execution_count": 7,
   "id": "99d9cf80",
   "metadata": {},
   "outputs": [
    {
     "data": {
      "text/plain": [
       "['this ', ' string']"
      ]
     },
     "execution_count": 7,
     "metadata": {},
     "output_type": "execute_result"
    }
   ],
   "source": [
    "s.split('a')"
   ]
  },
  {
   "cell_type": "code",
   "execution_count": 8,
   "id": "79c7c2ea",
   "metadata": {},
   "outputs": [
    {
     "data": {
      "text/plain": [
       "['', ' a string']"
      ]
     },
     "execution_count": 8,
     "metadata": {},
     "output_type": "execute_result"
    }
   ],
   "source": [
    "s.split('this')"
   ]
  },
  {
   "cell_type": "code",
   "execution_count": 9,
   "id": "2423c6b5",
   "metadata": {},
   "outputs": [
    {
     "data": {
      "text/plain": [
       "'this a string'"
      ]
     },
     "execution_count": 9,
     "metadata": {},
     "output_type": "execute_result"
    }
   ],
   "source": [
    "s.strip()"
   ]
  },
  {
   "cell_type": "code",
   "execution_count": 10,
   "id": "d7c10878",
   "metadata": {},
   "outputs": [],
   "source": [
    "d={'k1':1, 'k2':2}"
   ]
  },
  {
   "cell_type": "code",
   "execution_count": 11,
   "id": "1f06db43",
   "metadata": {},
   "outputs": [
    {
     "data": {
      "text/plain": [
       "{'k1': 1, 'k2': 2}"
      ]
     },
     "execution_count": 11,
     "metadata": {},
     "output_type": "execute_result"
    }
   ],
   "source": [
    "d"
   ]
  },
  {
   "cell_type": "code",
   "execution_count": 12,
   "id": "b0adca2c",
   "metadata": {},
   "outputs": [
    {
     "data": {
      "text/plain": [
       "<function dict.keys>"
      ]
     },
     "execution_count": 12,
     "metadata": {},
     "output_type": "execute_result"
    }
   ],
   "source": [
    "d.keys"
   ]
  },
  {
   "cell_type": "code",
   "execution_count": 13,
   "id": "5aaf4671",
   "metadata": {},
   "outputs": [
    {
     "data": {
      "text/plain": [
       "dict_keys(['k1', 'k2'])"
      ]
     },
     "execution_count": 13,
     "metadata": {},
     "output_type": "execute_result"
    }
   ],
   "source": [
    "d.keys()"
   ]
  },
  {
   "cell_type": "code",
   "execution_count": 14,
   "id": "f456cebb",
   "metadata": {},
   "outputs": [
    {
     "data": {
      "text/plain": [
       "dict_items([('k1', 1), ('k2', 2)])"
      ]
     },
     "execution_count": 14,
     "metadata": {},
     "output_type": "execute_result"
    }
   ],
   "source": [
    "d.items()"
   ]
  },
  {
   "cell_type": "code",
   "execution_count": 15,
   "id": "ff9ee2eb",
   "metadata": {},
   "outputs": [
    {
     "data": {
      "text/plain": [
       "dict_values([1, 2])"
      ]
     },
     "execution_count": 15,
     "metadata": {},
     "output_type": "execute_result"
    }
   ],
   "source": [
    "d.values()"
   ]
  },
  {
   "cell_type": "code",
   "execution_count": 16,
   "id": "00ca2ab5",
   "metadata": {},
   "outputs": [],
   "source": [
    "#upacking tuble\n",
    "x =[(1,2), (3,4), (5,6)]"
   ]
  },
  {
   "cell_type": "code",
   "execution_count": 17,
   "id": "0faffb11",
   "metadata": {},
   "outputs": [
    {
     "data": {
      "text/plain": [
       "[(1, 2), (3, 4), (5, 6)]"
      ]
     },
     "execution_count": 17,
     "metadata": {},
     "output_type": "execute_result"
    }
   ],
   "source": [
    "x"
   ]
  },
  {
   "cell_type": "code",
   "execution_count": 18,
   "id": "9f4a955c",
   "metadata": {},
   "outputs": [
    {
     "name": "stdout",
     "output_type": "stream",
     "text": [
      "(1, 2)\n",
      "(3, 4)\n",
      "(5, 6)\n"
     ]
    }
   ],
   "source": [
    "for i in x:\n",
    "    print(i)"
   ]
  },
  {
   "cell_type": "code",
   "execution_count": 19,
   "id": "6331fd5f",
   "metadata": {},
   "outputs": [
    {
     "name": "stdout",
     "output_type": "stream",
     "text": [
      "1 2\n",
      "3 4\n",
      "5 6\n"
     ]
    }
   ],
   "source": [
    "for a,b in x:\n",
    "    print(a,b)"
   ]
  },
  {
   "cell_type": "code",
   "execution_count": 20,
   "id": "9e7bd073",
   "metadata": {},
   "outputs": [
    {
     "data": {
      "text/plain": [
       "2401"
      ]
     },
     "execution_count": 20,
     "metadata": {},
     "output_type": "execute_result"
    }
   ],
   "source": [
    "7**4"
   ]
  },
  {
   "cell_type": "code",
   "execution_count": 27,
   "id": "ea45a1c8",
   "metadata": {},
   "outputs": [],
   "source": [
    "s='this is my a dog'"
   ]
  },
  {
   "cell_type": "code",
   "execution_count": 25,
   "id": "d2f28364",
   "metadata": {},
   "outputs": [],
   "source": [
    "for x in s:\n",
    "   pass# print(x)"
   ]
  },
  {
   "cell_type": "code",
   "execution_count": 23,
   "id": "49cc4e78",
   "metadata": {},
   "outputs": [
    {
     "data": {
      "text/plain": [
       "8"
      ]
     },
     "execution_count": 23,
     "metadata": {},
     "output_type": "execute_result"
    }
   ],
   "source": [
    "s.find('dog')"
   ]
  },
  {
   "cell_type": "code",
   "execution_count": 28,
   "id": "2a6c0539",
   "metadata": {},
   "outputs": [
    {
     "data": {
      "text/plain": [
       "3"
      ]
     },
     "execution_count": 28,
     "metadata": {},
     "output_type": "execute_result"
    }
   ],
   "source": [
    "s.find('s')"
   ]
  },
  {
   "cell_type": "code",
   "execution_count": 29,
   "id": "75926768",
   "metadata": {},
   "outputs": [],
   "source": [
    "def check_word(inpt):\n",
    "    return 'dog' in inpt.lower()"
   ]
  },
  {
   "cell_type": "code",
   "execution_count": 30,
   "id": "0102ceb4",
   "metadata": {},
   "outputs": [
    {
     "data": {
      "text/plain": [
       "True"
      ]
     },
     "execution_count": 30,
     "metadata": {},
     "output_type": "execute_result"
    }
   ],
   "source": [
    "check_word('this a dog container')"
   ]
  },
  {
   "cell_type": "code",
   "execution_count": 31,
   "id": "a8ffcfab",
   "metadata": {},
   "outputs": [
    {
     "data": {
      "text/plain": [
       "False"
      ]
     },
     "execution_count": 31,
     "metadata": {},
     "output_type": "execute_result"
    }
   ],
   "source": [
    "check_word('this a  container')"
   ]
  },
  {
   "cell_type": "code",
   "execution_count": 44,
   "id": "bcbfc4a9",
   "metadata": {},
   "outputs": [],
   "source": [
    "#cound the word dog from a string\n",
    "def count_dog(words):\n",
    "    count=0\n",
    "    for x in words.split():\n",
    "        if 'dog' == x.lower():\n",
    "            count+=1\n",
    "    print(count)"
   ]
  },
  {
   "cell_type": "code",
   "execution_count": 45,
   "id": "56bcb950",
   "metadata": {},
   "outputs": [
    {
     "name": "stdout",
     "output_type": "stream",
     "text": [
      "2\n"
     ]
    }
   ],
   "source": [
    "count_dog('this have to dog dog')"
   ]
  },
  {
   "cell_type": "code",
   "execution_count": 46,
   "id": "101ee7cb",
   "metadata": {},
   "outputs": [],
   "source": [
    "#fileter the list that doesnot start by k\n",
    "l=['kahsay','kbra','selam','tigi']"
   ]
  },
  {
   "cell_type": "code",
   "execution_count": 49,
   "id": "90a2978d",
   "metadata": {},
   "outputs": [
    {
     "name": "stdout",
     "output_type": "stream",
     "text": [
      "['selam', 'tigi']\n"
     ]
    }
   ],
   "source": [
    "print(list(filter(lambda x:x[0] != 'k', l)))"
   ]
  },
  {
   "cell_type": "code",
   "execution_count": 50,
   "id": "fcdb8d46",
   "metadata": {},
   "outputs": [],
   "source": [
    "import numpy as np"
   ]
  },
  {
   "cell_type": "code",
   "execution_count": null,
   "id": "76067227",
   "metadata": {},
   "outputs": [],
   "source": []
  }
 ],
 "metadata": {
  "kernelspec": {
   "display_name": "Python 3 (ipykernel)",
   "language": "python",
   "name": "python3"
  },
  "language_info": {
   "codemirror_mode": {
    "name": "ipython",
    "version": 3
   },
   "file_extension": ".py",
   "mimetype": "text/x-python",
   "name": "python",
   "nbconvert_exporter": "python",
   "pygments_lexer": "ipython3",
   "version": "3.11.4"
  }
 },
 "nbformat": 4,
 "nbformat_minor": 5
}
